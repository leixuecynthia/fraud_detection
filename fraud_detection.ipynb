{
 "cells": [
  {
   "cell_type": "code",
   "execution_count": 367,
   "metadata": {},
   "outputs": [],
   "source": [
    "import pandas as pd\n",
    "import numpy as np\n",
    "import seaborn as sns\n",
    "from sklearn import metrics\n",
    "\n",
    "%matplotlib inline\n",
    "import matplotlib.pyplot as plt\n",
    "import matplotlib.gridspec as gridspec"
   ]
  },
  {
   "cell_type": "markdown",
   "metadata": {},
   "source": [
    "# Construct Features"
   ]
  },
  {
   "cell_type": "code",
   "execution_count": 368,
   "metadata": {},
   "outputs": [],
   "source": [
    "# Load data\n",
    "df = pd.read_csv(\"Claim Export.csv\")"
   ]
  },
  {
   "cell_type": "code",
   "execution_count": 369,
   "metadata": {},
   "outputs": [
    {
     "name": "stdout",
     "output_type": "stream",
     "text": [
      "<class 'pandas.core.frame.DataFrame'>\n",
      "RangeIndex: 62161 entries, 0 to 62160\n",
      "Data columns (total 21 columns):\n",
      " #   Column                         Non-Null Count  Dtype  \n",
      "---  ------                         --------------  -----  \n",
      " 0   hmo_id                         62161 non-null  int64  \n",
      " 1   encounter_date                 62161 non-null  object \n",
      " 2   total_amount                   62129 non-null  float64\n",
      " 3   approved_amount                62161 non-null  float64\n",
      " 4   hmo_status                     62158 non-null  float64\n",
      " 5   created_at                     62161 non-null  object \n",
      " 6   updated_at                     62161 non-null  object \n",
      " 7   enrollee_birthdate             61062 non-null  object \n",
      " 8   enrollee_status                62158 non-null  object \n",
      " 9   hmo_name                       62161 non-null  object \n",
      " 10  claim_items_id                 62153 non-null  object \n",
      " 11  claim_items_care_id            62153 non-null  object \n",
      " 12  claim_items_amount             62153 non-null  object \n",
      " 13  claim_items_hmo_approved       62153 non-null  object \n",
      " 14  claim_items_qty                62153 non-null  object \n",
      " 15  claim_items_approved_amount    62153 non-null  object \n",
      " 16  claim_items_approved_qty       62153 non-null  object \n",
      " 17  claim_items_drug_duration_sub  53184 non-null  object \n",
      " 18  claim_items_is_prescription    53184 non-null  object \n",
      " 19  claim_items_care_item          62153 non-null  object \n",
      " 20  diagnoses_id                   62155 non-null  object \n",
      "dtypes: float64(3), int64(1), object(17)\n",
      "memory usage: 10.0+ MB\n"
     ]
    }
   ],
   "source": [
    "# Remove features with only null values\n",
    "df.drop(['child_hmo_id', 'enrollee_response', 'enrollee_response_at', 'claim_items', 'diagnoses', 'enrollee'],axis=1,inplace=True)\n",
    "\n",
    "# Remove columns with lots of missing values\n",
    "df.drop(['diagnoses_icd_code','admission_start','admission_end','approval_code',],axis=1,inplace=True)\n",
    "\n",
    "# Remove columns that are not useful\n",
    "df.drop(['id','hmo_pile_id','provider_id','enrollee_id','created_by','provider_status','provider_approved_by','enrollee_insurance_no','provider_name','claim_items_drug_frequency','claim_items_drug_duration','claim_items_comment_id','claim_items_dispute','claim_items_tariff_id','claim_items_claim_id','diagnoses_name'],axis=1,inplace=True)\n",
    "df.drop(['synced_at','vetted_at','claim_items_created_at','claim_items_updated_at'],axis=1,inplace=True)\n",
    "\n",
    "df.info()"
   ]
  },
  {
   "cell_type": "code",
   "execution_count": 370,
   "metadata": {},
   "outputs": [],
   "source": [
    "# Cleanup enrollee status: set 'xx' to 'XX'\n",
    "df.at[df[df['enrollee_status']=='xx'].index, 'enrollee_status']='XX'"
   ]
  },
  {
   "cell_type": "code",
   "execution_count": 1,
   "metadata": {},
   "outputs": [],
   "source": [
    "# Inspect claim items columns - Hiding this due to data privacy concerns\n",
    "# df[['claim_items_id','claim_items_care_id','claim_items_amount','claim_items_hmo_approved']]"
   ]
  },
  {
   "cell_type": "code",
   "execution_count": 2,
   "metadata": {},
   "outputs": [],
   "source": [
    "#  df[['claim_items_id','claim_items_qty','claim_items_approved_amount','claim_items_approved_qty','diagnoses_id','claim_items_id','claim_items_care_item']]"
   ]
  },
  {
   "cell_type": "code",
   "execution_count": 373,
   "metadata": {},
   "outputs": [],
   "source": [
    "# Create a new feature - f_claim_items_bar_count which is the number of claim items in each row\n",
    "df['f_claim_items_bar_count'] = 0\n",
    "for index, row in df.iterrows():\n",
    "    c = len(str(row['claim_items_id']).split('|'))\n",
    "    df.at[index,'f_claim_items_bar_count'] = c\n",
    "\n",
    "# print(df['f_claim_items_bar_count'].value_counts())\n",
    "# df[['claim_items_id','f_claim_items_bar_count']].head(20)"
   ]
  },
  {
   "cell_type": "code",
   "execution_count": 374,
   "metadata": {},
   "outputs": [],
   "source": [
    "# Create a new feature - f_diagnoses_count which is the number of diagnoses in each row\n",
    "df['f_diagnoses_count'] = 0\n",
    "for index, row in df.iterrows():\n",
    "    c = len(str(row['diagnoses_id']).split('|'))\n",
    "    df.at[index,'f_diagnoses_count'] = c\n",
    "    \n",
    "# print(df['f_diagnoses_count'].value_counts())\n",
    "# df[['diagnoses_id','f_diagnoses_count']].head(20)"
   ]
  },
  {
   "cell_type": "code",
   "execution_count": 375,
   "metadata": {},
   "outputs": [],
   "source": [
    "# Create a new feature - f_prescription_count which is the number of prescriptions in each row\n",
    "df['f_prescription_count'] = 0\n",
    "for index, row in df.iterrows():\n",
    "    counts = str(row['claim_items_is_prescription']).split('|')\n",
    "    total = 0\n",
    "    for c in counts:\n",
    "        if len(c.strip()) > 0 and c.strip() != 'nan':\n",
    "            total += int(c.strip())\n",
    "    df.at[index,'f_prescription_count'] = total\n",
    "    \n",
    "# print(df['f_prescription_count'].value_counts())\n",
    "# df[['f_prescription_count']].head(20)"
   ]
  },
  {
   "cell_type": "code",
   "execution_count": 376,
   "metadata": {},
   "outputs": [],
   "source": [
    "# Check if any items is null\n",
    "for index, row in df.iterrows():\n",
    "    items = str(row['claim_items_approved_qty']).split('|')\n",
    "#     print(items)\n",
    "    for i in items:\n",
    "        if i == '' or len(i) == 0 or i.isspace():\n",
    "            print(items)\n",
    "# No"
   ]
  },
  {
   "cell_type": "code",
   "execution_count": 377,
   "metadata": {},
   "outputs": [],
   "source": [
    "# Create a new feature diff_account\n",
    "df['f_diff_account'] = df['total_amount'] - df['approved_amount']\n",
    "\n",
    "# Debug\n",
    "# df['f_diff_account'].value_counts()\n",
    "# df[df['f_diff_account']==0]['hmo_status'].value_counts()"
   ]
  },
  {
   "cell_type": "markdown",
   "metadata": {},
   "source": [
    "### Deal with diagnoses_id feature"
   ]
  },
  {
   "cell_type": "code",
   "execution_count": 378,
   "metadata": {},
   "outputs": [
    {
     "name": "stdout",
     "output_type": "stream",
     "text": [
      "7257\n"
     ]
    }
   ],
   "source": [
    "# How many of unique item ids\n",
    "counts = dict() # map of \n",
    "idx = []\n",
    "for index, row in df.iterrows():\n",
    "    ids = str(row['diagnoses_id']).split('|')\n",
    "    for id in ids:\n",
    "        counts[id.strip()] = counts.get(id.strip(), 0) + 1\n",
    "print(len(counts)) # 7257 diagnoses"
   ]
  },
  {
   "cell_type": "code",
   "execution_count": 379,
   "metadata": {},
   "outputs": [],
   "source": [
    "# Is there one diagnosis appear more than once in a row?\n",
    "for index, row in df.iterrows():\n",
    "    ids = str(row['diagnoses_id']).split('|')\n",
    "    for id in ids:\n",
    "        stripped_id = id.strip()\n",
    "        duplicates = {}\n",
    "        if stripped_id in duplicates:\n",
    "            print(row)\n",
    "        else:\n",
    "            duplicates[stripped_id] = 1\n",
    "# No"
   ]
  },
  {
   "cell_type": "code",
   "execution_count": 380,
   "metadata": {},
   "outputs": [],
   "source": [
    "# Sort diagnosis id by its values\n",
    "sorted_counts = sorted(counts.items(), key=lambda x: x[1], reverse=True)\n",
    "\n",
    "# Select the top diagnosis based on their frequency\n",
    "top_n = 30\n",
    "frequent_diagnosis = []\n",
    "for i in sorted_counts:\n",
    "    if top_n > 0:\n",
    "        frequent_diagnosis.append(i[0])\n",
    "    top_n -= 1\n",
    "\n",
    "# print(frequent_diagnosis)"
   ]
  },
  {
   "cell_type": "code",
   "execution_count": 381,
   "metadata": {},
   "outputs": [],
   "source": [
    "# Create f_frequent_diagnoses features\n",
    "\n",
    "# Convert list to index dictionary \n",
    "frequent_diagnosis_dict = {}\n",
    "for i, d in enumerate(frequent_diagnosis):\n",
    "    frequent_diagnosis_dict[d] = i\n",
    "# print(frequent_diagnosis_dict)\n",
    "\n",
    "top_n = 30\n",
    "frequent_diagnosis_features=[]\n",
    "frequent_diagnosis_name = 'f_frequent_diagnosis'\n",
    "for i in range(top_n):\n",
    "    d_feature_name='f_frequent_diagnosis_{id}'.format(id=i)\n",
    "    df[d_feature_name] = 0\n",
    "    frequent_diagnosis_features.append(d_feature_name)\n",
    "# print('featuren names:',frequent_diagnosis_features)\n",
    "\n",
    "for index, row in df.iterrows():\n",
    "    ids = str(row['diagnoses_id']).split('|')\n",
    "    for id in ids:\n",
    "        stripped_id = id.strip()\n",
    "        if stripped_id in frequent_diagnosis_dict:\n",
    "            df.at[index, 'f_frequent_diagnosis_{x}'.format(x=frequent_diagnosis_dict[stripped_id])] = 1\n"
   ]
  },
  {
   "cell_type": "code",
   "execution_count": 382,
   "metadata": {},
   "outputs": [],
   "source": [
    "# Select top 8 diganoses as the f_diagnsis features\n",
    "diagnosis_features=[]\n",
    "for i in range(8):\n",
    "    diagnosis_feature_name='f_diagnosis_{id}'.format(id=i)\n",
    "    df[diagnosis_feature_name] = pd.to_numeric(sample[i], downcast='integer').fillna(0).astype(int)\n",
    "    diagnosis_features.append(diagnosis_feature_name)\n",
    "# print(diagnosis_features)\n",
    "# df.info()"
   ]
  },
  {
   "cell_type": "markdown",
   "metadata": {},
   "source": [
    "### Deal with claim items features"
   ]
  },
  {
   "cell_type": "code",
   "execution_count": 383,
   "metadata": {},
   "outputs": [],
   "source": [
    "# How many of unique item ids\n",
    "counts = dict() # map of \n",
    "idx = []\n",
    "for index, row in df.iterrows():\n",
    "    ids = str(row['claim_items_care_id']).split('|')\n",
    "    for id in ids:\n",
    "        counts[id.strip()] = counts.get(id.strip(), 0) + 1\n",
    "# print(len(counts))  14156"
   ]
  },
  {
   "cell_type": "code",
   "execution_count": 384,
   "metadata": {},
   "outputs": [],
   "source": [
    "# Is there one claim item appear more than once in a row?\n",
    "for index, row in df.iterrows():\n",
    "    ids = str(row['claim_items_care_id']).split('|')\n",
    "    for id in ids:\n",
    "        stripped_id = id.strip()\n",
    "        duplicates = {}\n",
    "        if stripped_id in duplicates:\n",
    "            print(row)\n",
    "        else:\n",
    "            duplicates[stripped_id] = 1\n",
    "            \n",
    "# No"
   ]
  },
  {
   "cell_type": "code",
   "execution_count": 385,
   "metadata": {},
   "outputs": [],
   "source": [
    "# Sort claim item id by its values\n",
    "sorted_counts = sorted(counts.items(), key=lambda x: x[1], reverse=True)\n",
    "\n",
    "# Select the top diagnosis based on their frequency\n",
    "top_n = 50\n",
    "frequent_cliam_items = []\n",
    "for i in sorted_counts:\n",
    "    if top_n > 0:\n",
    "        frequent_cliam_items.append(i[0])\n",
    "    top_n -= 1\n",
    "# print(frequent_cliam_items)"
   ]
  },
  {
   "cell_type": "code",
   "execution_count": 386,
   "metadata": {},
   "outputs": [],
   "source": [
    "# Create f_claim_items features\n",
    "\n",
    "# Split the claim items features\n",
    "to_split=['claim_items_care_id','claim_items_amount','claim_items_qty']\n",
    "item_features=[]\n",
    "for t in to_split:\n",
    "    sample = df[t].str.split(\"|\", expand=True)\n",
    "    for i in range(25):\n",
    "        f_name='f_{sp}_{id}'.format(sp=t,id=i)\n",
    "        df[f_name] = pd.to_numeric(sample[i], downcast='integer').fillna(0).astype(int)\n",
    "        item_features.append(f_name)\n",
    "\n",
    "# print(item_features)\n",
    "# df.info()"
   ]
  },
  {
   "cell_type": "markdown",
   "metadata": {},
   "source": [
    "### Deal with Date features"
   ]
  },
  {
   "cell_type": "code",
   "execution_count": 387,
   "metadata": {},
   "outputs": [],
   "source": [
    "# df['enrollee_birthdate'].isnull().sum()\n",
    "# df[df['enrollee_birthdate'].isnull()]['hmo_status'].value_counts()"
   ]
  },
  {
   "cell_type": "code",
   "execution_count": 388,
   "metadata": {},
   "outputs": [],
   "source": [
    "# Convert date to days in difference \n",
    "from datetime import datetime\n",
    "\n",
    "df[['enrollee_birthdate','created_at','updated_at']] = df[['enrollee_birthdate','created_at','updated_at']].apply(pd.to_datetime)\n",
    "df['encounter_date'] = pd.to_datetime(df['encounter_date'], utc=True)\n",
    "\n",
    "current_date = '01/01/21 00:00:00'\n",
    "datetime_base = datetime.strptime(current_date, '%m/%d/%y %H:%M:%S')\n",
    "# print(type(datetime_base))\n",
    "# print(datetime_base)  # printed in default format\n",
    "\n",
    "# df['encounter_date'] = df['encounter_date'] -  datetime_base\n",
    "df['enrollee_birthdate'] = datetime_base - df['enrollee_birthdate']\n",
    "# df['encounter_date'] = pd.to_numeric(df['encounter_date'].dt.days, downcast='integer')\n",
    "df['f_days_to_create_claims'] = df['created_at'] - df['encounter_date']\n",
    "df['f_days_to_update_claims'] = df['updated_at'] - df['created_at']\n",
    "\n",
    "# Three new features are created\n",
    "df['f_enrollee_birthdate'] = pd.to_numeric(df['enrollee_birthdate'].dt.days, downcast='integer')\n",
    "df['f_days_to_create_claims'] = pd.to_numeric(df['f_days_to_create_claims'].dt.days, downcast='integer')\n",
    "df['f_days_to_update_claims'] = pd.to_numeric(df['f_days_to_update_claims'].dt.days, downcast='integer')\n",
    "\n",
    "# drop useless columns\n",
    "df.drop(['encounter_date','created_at','enrollee_birthdate','updated_at'],axis=1,inplace=True)"
   ]
  },
  {
   "cell_type": "code",
   "execution_count": 389,
   "metadata": {},
   "outputs": [],
   "source": [
    "# Try Leave one out encoding\n",
    "# from category_encoders.leave_one_out import LeaveOneOutEncoder\n",
    "\n",
    "# LOOE_encoder = LeaveOneOutEncoder()\n",
    "# train_looe = LOOE_encoder.fit_transform(df['hmo_name'], df['hmo_status'])\n",
    "# # train_looe.value_counts()\n",
    "# df['hmo_name'].value_counts()\n",
    "# # test_looe = LOOE_encoder.transform(test[feature_list])\n",
    "# # LOOE_encoder.transform(df['hmo_name'], df['hmo_status']).value_counts()"
   ]
  },
  {
   "cell_type": "code",
   "execution_count": 390,
   "metadata": {},
   "outputs": [],
   "source": [
    "# from sklearn import preprocessing\n",
    "# from sklearn.pipeline import Pipeline\n",
    "# from sklearn.impute import SimpleImputer\n",
    "# from sklearn.preprocessing import StandardScaler\n",
    "# from sklearn.compose import ColumnTransformer\n",
    "# import category_encoders as ce\n",
    "\n",
    "# categorical_transformer = Pipeline(steps=[\n",
    "#     ('imputer', SimpleImputer(strategy='constant', fill_value='missing')),\n",
    "#     ('looe', LeaveOneOutEncoder())])"
   ]
  },
  {
   "cell_type": "markdown",
   "metadata": {},
   "source": [
    "# Model Training"
   ]
  },
  {
   "cell_type": "code",
   "execution_count": 391,
   "metadata": {},
   "outputs": [],
   "source": [
    "from imblearn.over_sampling import SMOTE\n",
    "from sklearn.model_selection import cross_val_score\n",
    "from sklearn.metrics import confusion_matrix\n",
    "from imblearn.pipeline import make_pipeline\n",
    "\n",
    "from sklearn import preprocessing\n",
    "from sklearn import metrics\n",
    "\n",
    "from sklearn.model_selection import train_test_split\n",
    "from sklearn.model_selection import KFold   #For K-fold cross validation\n",
    "from sklearn.model_selection import StratifiedKFold\n",
    "\n",
    "from sklearn.metrics import accuracy_score\n",
    "from sklearn import preprocessing\n",
    "from sklearn.pipeline import Pipeline\n",
    "from sklearn.impute import SimpleImputer\n",
    "from sklearn.preprocessing import StandardScaler\n",
    "from sklearn.compose import ColumnTransformer\n",
    "import category_encoders as ce\n",
    "\n",
    "# models\n",
    "from sklearn.linear_model import LogisticRegression\n",
    "from sklearn import svm\n",
    "from sklearn.tree import DecisionTreeClassifier\n",
    "from sklearn.ensemble import RandomForestClassifier\n",
    "from sklearn.ensemble import GradientBoostingClassifier"
   ]
  },
  {
   "cell_type": "code",
   "execution_count": 392,
   "metadata": {},
   "outputs": [
    {
     "name": "stdout",
     "output_type": "stream",
     "text": [
      " 1.0    60429\n",
      "-1.0      603\n",
      "Name: hmo_status, dtype: int64\n"
     ]
    }
   ],
   "source": [
    "# Drop some null values\n",
    "df.dropna(subset = ['hmo_status'], inplace=True)\n",
    "df.dropna(subset = ['f_claim_items_bar_count','f_diagnoses_count','f_diff_account','f_days_to_create_claims','f_enrollee_birthdate','total_amount','enrollee_status','hmo_id','approved_amount'], inplace=True)\n",
    "df.dropna(subset=item_features, inplace=True)\n",
    "\n",
    "# Make sure we don't lose too many rows after dropping rows with null values\n",
    "print(df['hmo_status'].value_counts())"
   ]
  },
  {
   "cell_type": "code",
   "execution_count": 393,
   "metadata": {},
   "outputs": [],
   "source": [
    "# # Find pending claims\n",
    "# df.loc[(df['total_amount'] != df['approved_amount']) & (df['hmo_status'] == 1),'hmo_status'] = 0\n",
    "# df['hmo_status'].value_counts() # 62158"
   ]
  },
  {
   "cell_type": "code",
   "execution_count": 394,
   "metadata": {},
   "outputs": [
    {
     "data": {
      "text/plain": [
       "0    60429\n",
       "1      603\n",
       "Name: target, dtype: int64"
      ]
     },
     "execution_count": 394,
     "metadata": {},
     "output_type": "execute_result"
    }
   ],
   "source": [
    "# Use \"target\" as the class labels \n",
    "df['target'] = 0\n",
    "df.loc[df['hmo_status'] == -1,['target']] = 1\n",
    "df['target'].value_counts()"
   ]
  },
  {
   "cell_type": "code",
   "execution_count": 395,
   "metadata": {},
   "outputs": [
    {
     "data": {
      "text/plain": [
       "0    12086\n",
       "1      121\n",
       "Name: target, dtype: int64"
      ]
     },
     "execution_count": 395,
     "metadata": {},
     "output_type": "execute_result"
    }
   ],
   "source": [
    "# Split data into train and test\n",
    "\n",
    "y = df['target']\n",
    "X = df[frequent_diagnosis_features + diagnosis_features + item_features + ['approved_amount','f_claim_items_bar_count','f_diagnoses_count','f_diff_account','f_days_to_update_claims','f_days_to_create_claims','f_enrollee_birthdate','total_amount','enrollee_status','hmo_id']]\n",
    "\n",
    "X_train,X_test,y_train,y_test = train_test_split(X, y, test_size = 0.2, shuffle=True, stratify=y, random_state=0)\n",
    "\n",
    "y_test.value_counts()"
   ]
  },
  {
   "cell_type": "code",
   "execution_count": 401,
   "metadata": {},
   "outputs": [],
   "source": [
    "def evaluate_model(X_train, y_train, model):\n",
    "    model.fit(X_train, y_train)\n",
    "    preds = model.predict(X_test)\n",
    "    scores = cross_val_score(model, X_train, y_train, cv=StratifiedKFold(shuffle=True), scoring=\"f1\")\n",
    "    diff = scores.mean() - model.score(X_test, y_test)\n",
    "    SD = diff / scores.std()\n",
    "    \n",
    "    print(f\"test data:{y_test.value_counts()}\")\n",
    "    print(f\"pred data:{preds.sum()}\")\n",
    "    print(f\"Training Score:{model.score(X_train, y_train)}\")\n",
    "    print(f\"Cross V Score: {scores.mean()} +/- {scores.std()}\")\n",
    "    print(f\"Testing Score: {model.score(X_test, y_test)}\")\n",
    "    print(f\"Cross & Test Diff: {diff}\")\n",
    "    print(f\"Standard Deviations Away: {SD}\")\n",
    "    print(confusion_matrix(y_test, preds))\n",
    "    print(metrics.classification_report(y_test, preds, digits=3))\n",
    "    return model\n",
    "\n",
    "# smt = SMOTE(random_state=1)"
   ]
  },
  {
   "cell_type": "code",
   "execution_count": 402,
   "metadata": {},
   "outputs": [],
   "source": [
    "# model = DecisionTreeClassifier()\n",
    "# pipeline = make_pipeline(smt, model, verbose=True)\n",
    "# evaluate_model(X_train, y_train, pipeline)"
   ]
  },
  {
   "cell_type": "code",
   "execution_count": 403,
   "metadata": {},
   "outputs": [],
   "source": [
    "# # model = RandomForestClassifier(n_estimators=500,min_samples_split=25, max_features=2)\n",
    "# model = GradientBoostingClassifier(random_state=2)\n",
    "# pipeline = make_pipeline(smt, model, verbose=True)\n",
    "# evaluate_model(X_train, y_train, pipeline)"
   ]
  },
  {
   "cell_type": "code",
   "execution_count": 404,
   "metadata": {},
   "outputs": [],
   "source": [
    "# Training parameters\n",
    "claim_cat_features=['f_claim_items_care_id_0', 'f_claim_items_care_id_1', 'f_claim_items_care_id_2', 'f_claim_items_care_id_3', 'f_claim_items_care_id_4', 'f_claim_items_care_id_5', 'f_claim_items_care_id_6', 'f_claim_items_care_id_7', 'f_claim_items_care_id_8', 'f_claim_items_care_id_9', 'f_claim_items_care_id_10', 'f_claim_items_care_id_11', 'f_claim_items_care_id_12', 'f_claim_items_care_id_13', 'f_claim_items_care_id_14', 'f_claim_items_care_id_15', 'f_claim_items_care_id_16', 'f_claim_items_care_id_17', 'f_claim_items_care_id_18', 'f_claim_items_care_id_19', 'f_claim_items_care_id_20', 'f_claim_items_care_id_21', 'f_claim_items_care_id_22', 'f_claim_items_care_id_23', 'f_claim_items_care_id_24']\n",
    "categorical_features =diagnosis_features +  frequent_diagnosis_features + ['enrollee_status','hmo_id'] + claim_cat_features\n",
    "\n",
    "# Parameter tuning: https://catboost.ai/docs/concepts/parameter-tuning.html\n",
    "params = {\n",
    "    'n_estimators': 1000,\n",
    "    'verbose': 200,\n",
    "    'depth': 10,\n",
    "    'grow_policy':'SymmetricTree',\n",
    "    'class_weights': {0:1, 1:105},\n",
    "    'cat_features':categorical_features,\n",
    "    'random_seed': 2,\n",
    "}\n",
    "\n",
    "# Params for multi-class:\n",
    "# 'loss_function': 'MultiClass'\n",
    "# 'class_weights': {0:6, 1:1, -1:100},"
   ]
  },
  {
   "cell_type": "code",
   "execution_count": 405,
   "metadata": {},
   "outputs": [
    {
     "name": "stdout",
     "output_type": "stream",
     "text": [
      "Learning rate set to 0.054198\n",
      "0:\tlearn: 0.6790041\ttotal: 726ms\tremaining: 12m 5s\n",
      "200:\tlearn: 0.1630813\ttotal: 4m 9s\tremaining: 16m 30s\n",
      "400:\tlearn: 0.0297873\ttotal: 11m 3s\tremaining: 16m 31s\n",
      "600:\tlearn: 0.0140138\ttotal: 19m 42s\tremaining: 13m 5s\n",
      "800:\tlearn: 0.0124273\ttotal: 27m 58s\tremaining: 6m 57s\n",
      "999:\tlearn: 0.0124007\ttotal: 32m 50s\tremaining: 0us\n",
      "[[12037    49]\n",
      " [   63    58]]\n",
      "              precision    recall  f1-score   support\n",
      "\n",
      "           0      0.995     0.996     0.995     12086\n",
      "           1      0.542     0.479     0.509       121\n",
      "\n",
      "    accuracy                          0.991     12207\n",
      "   macro avg      0.768     0.738     0.752     12207\n",
      "weighted avg      0.990     0.991     0.991     12207\n",
      "\n"
     ]
    }
   ],
   "source": [
    "from catboost import CatBoostClassifier\n",
    "model = CatBoostClassifier(**params)\n",
    "# pipeline = make_pipeline(smt, model, verbose=True)\n",
    "trained_m = evaluate_model(X_train, y_train, model)\n",
    "# trained_m.plot_tree(tree_idx=0)"
   ]
  },
  {
   "cell_type": "code",
   "execution_count": 406,
   "metadata": {},
   "outputs": [
    {
     "name": "stdout",
     "output_type": "stream",
     "text": [
      "Confusion matrix, without normalization\n",
      "[[12037    49]\n",
      " [   63    58]]\n",
      "Normalized confusion matrix\n",
      "[[0.99594572 0.00405428]\n",
      " [0.52066116 0.47933884]]\n"
     ]
    },
    {
     "data": {
      "image/png": "[encoded data removed]",
      "text/plain": [
       "<Figure size 432x288 with 2 Axes>"
      ]
     },
     "metadata": {
      "needs_background": "light"
     },
     "output_type": "display_data"
    },
    {
     "data": {
      "image/png": "[encoded data removed]",
      "text/plain": [
       "<Figure size 432x288 with 2 Axes>"
      ]
     },
     "metadata": {
      "needs_background": "light"
     },
     "output_type": "display_data"
    }
   ],
   "source": [
    "# Plot the confusion matrix\n",
    "import matplotlib.pyplot as plt\n",
    "from sklearn.metrics import plot_confusion_matrix\n",
    "\n",
    "titles_options = [(\"Confusion matrix, without normalization\", None),\n",
    "                  (\"Normalized confusion matrix\", 'true')]\n",
    "for title, normalize in titles_options:\n",
    "    disp = plot_confusion_matrix(trained_m, X_test, y_test,\n",
    "                                 cmap=plt.cm.Blues,\n",
    "                                 normalize=normalize)\n",
    "    disp.ax_.set_title(title)\n",
    "\n",
    "    print(title)\n",
    "    print(disp.confusion_matrix)\n",
    "\n",
    "plt.show()"
   ]
  },
  {
   "cell_type": "code",
   "execution_count": null,
   "metadata": {},
   "outputs": [],
   "source": []
  },
  {
   "cell_type": "code",
   "execution_count": null,
   "metadata": {},
   "outputs": [],
   "source": []
  },
  {
   "cell_type": "markdown",
   "metadata": {},
   "source": [
    "## "
   ]
  }
 ],
 "metadata": {
  "kernelspec": {
   "display_name": "Python 3",
   "language": "python",
   "name": "python3"
  },
  "language_info": {
   "codemirror_mode": {
    "name": "ipython",
    "version": 3
   },
   "file_extension": ".py",
   "mimetype": "text/x-python",
   "name": "python",
   "nbconvert_exporter": "python",
   "pygments_lexer": "ipython3",
   "version": "3.8.3"
  }
 },
 "nbformat": 4,
 "nbformat_minor": 4
}
